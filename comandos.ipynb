{
 "cells": [
  {
   "attachments": {},
   "cell_type": "markdown",
   "metadata": {},
   "source": [
    "git clone => puxar projeto <br>\n",
    "git log --oneline ver log do sistema em uma linha <br>\n",
    "git commit nome.arquivo -m comentario de um arquivo que foi alterado <br>\n",
    "git commit . -m alterando muito arquivos <br>\n",
    "git push para enviar as alterações <br>\n",
    "git pull para puxar\n",
    "\n"
   ]
  }
 ],
 "metadata": {
  "language_info": {
   "name": "python"
  },
  "orig_nbformat": 4
 },
 "nbformat": 4,
 "nbformat_minor": 2
}
